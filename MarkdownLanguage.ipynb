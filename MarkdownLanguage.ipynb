{
  "nbformat": 4,
  "nbformat_minor": 0,
  "metadata": {
    "colab": {
      "name": "MarkdownLanguage.ipynb",
      "provenance": []
    },
    "kernelspec": {
      "name": "python3",
      "display_name": "Python 3"
    }
  },
  "cells": [
    {
      "cell_type": "markdown",
      "metadata": {
        "id": "Ro2aBOm85xok",
        "colab_type": "text"
      },
      "source": [
        ""
      ]
    },
    {
      "cell_type": "markdown",
      "metadata": {
        "id": "d7sB-4qY53Jj",
        "colab_type": "text"
      },
      "source": [
        ""
      ]
    },
    {
      "cell_type": "code",
      "metadata": {
        "id": "zzl8TbfroVZB",
        "colab_type": "code",
        "colab": {}
      },
      "source": [
        "## I Am using \"\"Markdown laguange\"\""
      ],
      "execution_count": 1,
      "outputs": []
    },
    {
      "cell_type": "markdown",
      "metadata": {
        "id": "lJrykEg056LM",
        "colab_type": "text"
      },
      "source": [
        "### I am using *Markdown language* to talk about something **interesting**\n",
        "#### Something interesting is that I like to do **caligrapghy** on my free time"
      ]
    }
  ]
}