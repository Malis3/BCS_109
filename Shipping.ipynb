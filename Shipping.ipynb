{
  "nbformat": 4,
  "nbformat_minor": 0,
  "metadata": {
    "colab": {
      "name": "Shipping.ipynb",
      "provenance": []
    },
    "kernelspec": {
      "name": "python3",
      "display_name": "Python 3"
    }
  },
  "cells": [
    {
      "cell_type": "code",
      "metadata": {
        "id": "5NjZXerhnjSe",
        "colab_type": "code",
        "colab": {
          "base_uri": "https://localhost:8080/",
          "height": 69
        },
        "outputId": "28398a6e-4611-4a03-9032-ca10bf18fc7d"
      },
      "source": [
        "#Malik Shehrooz, BCS 109, Assignment: Sales Part 2, 9/23/2020\n",
        "\n",
        "#asks the user weight of package\n",
        "weight = int(input(\"Enter the weight of package \"))\n",
        "total = 0\n",
        "\n",
        "#If weight is less than 2 rate is 1.50\n",
        "if weight <= 2:\n",
        "  total = (weight*1.50)\n",
        "\n",
        "#If weight is less than 6 but over 2 rate is 3\n",
        "elif weight <= 6:\n",
        "  total = (weight*3.00)\n",
        "\n",
        "#If weight is less than 10 but over 6 rate is 4\n",
        "elif  weight <=10:\n",
        "  total = (weight*4.00)\n",
        "\n",
        "#If weight is over 10 rate is 4.75\n",
        "else:\n",
        "  total = (weight*4.75)\n",
        "\n",
        "#Print results\n",
        "print(\"Package Weight:\", weight)\n",
        "print(\"Shipping Charges: $\", total)"
      ],
      "execution_count": 9,
      "outputs": [
        {
          "output_type": "stream",
          "text": [
            "Enter the weight of package 9\n",
            "Package Weight: 9\n",
            "Shipping Charges: $ 36.0\n"
          ],
          "name": "stdout"
        }
      ]
    },
    {
      "cell_type": "markdown",
      "metadata": {
        "id": "nWz2bwmLqQ7n",
        "colab_type": "text"
      },
      "source": [
        ""
      ]
    }
  ]
}