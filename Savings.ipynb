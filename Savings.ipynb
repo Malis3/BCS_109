{
  "nbformat": 4,
  "nbformat_minor": 0,
  "metadata": {
    "colab": {
      "name": "Savings.ipynb",
      "provenance": []
    },
    "kernelspec": {
      "name": "python3",
      "display_name": "Python 3"
    }
  },
  "cells": [
    {
      "cell_type": "code",
      "metadata": {
        "id": "4SizU2b4a18T",
        "colab_type": "code",
        "colab": {
          "base_uri": "https://localhost:8080/",
          "height": 139
        },
        "outputId": "3ccaa58c-ce18-41b0-a7eb-b74be3c204ec"
      },
      "source": [
        "#Malik Shehrooz, BCS 109, Assignment: Savings, 9/16/2020\n",
        "\n",
        "#this float takes a the users interest Rate on investment\n",
        "r = float (input(\"What is the Interest Rate?\\n\"))\n",
        "\n",
        "#This float takes the principle, how much they are investing\n",
        "p = float (input(\"What is the Principle?\\n\"))\n",
        "\n",
        "#This Float takes how many years the investment will be\n",
        "t = float (input(\"What is the time of the Interest?\\n\"))\n",
        "\n",
        "#With this output the math is Principle times the rate squared by the time\n",
        "output = p*(1+r)**t\n",
        "\n",
        "#This outputs the amount the user will recive after the certain time\n",
        "print(\"The future value is: \", output)\n"
      ],
      "execution_count": 3,
      "outputs": [
        {
          "output_type": "stream",
          "text": [
            "What is the Interest Rate?\n",
            ".10\n",
            "What is the Principle?\n",
            "100000\n",
            "What is the time of the Interest?\n",
            "30\n",
            "The future value is:  1744940.2268886447\n"
          ],
          "name": "stdout"
        }
      ]
    }
  ]
}