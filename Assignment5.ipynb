{
  "nbformat": 4,
  "nbformat_minor": 0,
  "metadata": {
    "colab": {
      "name": "Assignment5.ipynb",
      "provenance": []
    },
    "kernelspec": {
      "name": "python3",
      "display_name": "Python 3"
    }
  },
  "cells": [
    {
      "cell_type": "code",
      "metadata": {
        "id": "rLLq_xpuH-lS",
        "outputId": "af82fd57-5c2a-4df7-9eea-2e2043f21027",
        "colab": {
          "base_uri": "https://localhost:8080/",
          "height": 35
        }
      },
      "source": [
        "#Question 1\n",
        "\n",
        "name = input(\"Enter your name: \")\n"
      ],
      "execution_count": 1,
      "outputs": [
        {
          "output_type": "stream",
          "text": [
            "Enter your name: malik\n"
          ],
          "name": "stdout"
        }
      ]
    },
    {
      "cell_type": "code",
      "metadata": {
        "id": "_zENAYXKmMlQ"
      },
      "source": [
        "\n",
        "\n",
        "#Question 3\n",
        "\n",
        "for i in range (1,1001):\n",
        "  val = str(i)\n",
        "  for position in val:\n",
        "    if(position == '3'):\n",
        "      print(i)\n",
        "      break"
      ],
      "execution_count": null,
      "outputs": []
    },
    {
      "cell_type": "code",
      "metadata": {
        "id": "ERXmwJGOOgWB",
        "outputId": "b2ec2729-92c8-407a-a012-036365971153",
        "colab": {
          "base_uri": "https://localhost:8080/",
          "height": 55
        }
      },
      "source": [
        "#Question 4\n",
        "\n",
        "for num in range (100,0,-1):\n",
        "  print (num, end = \"|\")"
      ],
      "execution_count": 4,
      "outputs": [
        {
          "output_type": "stream",
          "text": [
            "100|99|98|97|96|95|94|93|92|91|90|89|88|87|86|85|84|83|82|81|80|79|78|77|76|75|74|73|72|71|70|69|68|67|66|65|64|63|62|61|60|59|58|57|56|55|54|53|52|51|50|49|48|47|46|45|44|43|42|41|40|39|38|37|36|35|34|33|32|31|30|29|28|27|26|25|24|23|22|21|20|19|18|17|16|15|14|13|12|11|10|9|8|7|6|5|4|3|2|1|"
          ],
          "name": "stdout"
        }
      ]
    },
    {
      "cell_type": "code",
      "metadata": {
        "id": "4Q5-BkSfQMb0",
        "outputId": "1e52e4e5-b7db-4953-be30-2e779563bc11",
        "colab": {
          "base_uri": "https://localhost:8080/",
          "height": 121
        }
      },
      "source": [
        "#Question 5\n",
        "\n",
        "for a in range (100,1001):\n",
        "  if ( 1000 % a == 0):\n",
        "    print(a)"
      ],
      "execution_count": 8,
      "outputs": [
        {
          "output_type": "stream",
          "text": [
            "100\n",
            "125\n",
            "200\n",
            "250\n",
            "500\n",
            "1000\n"
          ],
          "name": "stdout"
        }
      ]
    }
  ]
}