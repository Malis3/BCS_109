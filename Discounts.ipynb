{
  "nbformat": 4,
  "nbformat_minor": 0,
  "metadata": {
    "colab": {
      "name": "Discounts.ipynb",
      "provenance": []
    },
    "kernelspec": {
      "name": "python3",
      "display_name": "Python 3"
    }
  },
  "cells": [
    {
      "cell_type": "code",
      "metadata": {
        "id": "CeloTwekG3K7",
        "colab_type": "code",
        "colab": {
          "base_uri": "https://localhost:8080/",
          "height": 69
        },
        "outputId": "835b17ae-f573-4703-bb7c-cc1c2b6427ab"
      },
      "source": [
        "#Malik Shehrooz, BCS 109, Assignment: Sales Part 1, 9/23/2020\n",
        "\n",
        "\n",
        "#Asks the user how many packages purchased\n",
        "x = int(input(\"How many number of packages purchased \"))\n",
        "total = 0\n",
        "\n",
        "#packages more tha 10 give 10% discount\n",
        "if x >= 10:\n",
        "  total = x - (10*x/100)\n",
        "\n",
        "#packages more tha 20 give 20% discount\n",
        "elif x >= 20:\n",
        "  total = x -(20*x/100)\n",
        "\n",
        "#packages more tha 50 give 30% discount\n",
        "elif x >=50:\n",
        "  total = x = (50*x/100)\n",
        "\n",
        "#packages more tha 100 give 40% discount\n",
        "elif x >= 100:\n",
        "  total = x - (40*x/100)\n",
        "\n",
        "#no match give no discount \n",
        "else:\n",
        "  total = x\n",
        "\n",
        "total = total*99\n",
        "\n",
        "#print results\n",
        "print(\"You Purchased:\", x)\n",
        "print(\"Total with discount: $\", total)"
      ],
      "execution_count": 1,
      "outputs": [
        {
          "output_type": "stream",
          "text": [
            "How many number of packages purchased 34\n",
            "You Purchased: 34\n",
            "Total with discount: $ 3029.4\n"
          ],
          "name": "stdout"
        }
      ]
    }
  ]
}